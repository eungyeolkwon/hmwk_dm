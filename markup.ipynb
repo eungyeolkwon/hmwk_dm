{
 "cells": [
  {
   "cell_type": "markdown",
   "metadata": {},
   "source": [
    "# Let's make markup "
   ]
  },
  {
   "cell_type": "markdown",
   "metadata": {},
   "source": [
    "## Emphasis \n",
    "\n",
    "이탈릭체는 *별표* 아님 _언더바_\n",
    "\n",
    "두껍게는 **별표** 아님 __언더바__ 두개씩\n",
    "\n",
    "**_두껍고 이탈릭체는 섞어서 쓰고 _**\n",
    "\n",
    "취소선은 ~~물결표시로~~ \n",
    "\n",
    "\n",
    "<u>밑줄</u>어렵다"
   ]
  },
  {
   "cell_type": "markdown",
   "metadata": {},
   "source": [
    "## 목록\n",
    "\n",
    "<ol> \n",
    "    <li> 순서가 필요하면 'ol'로 시작한 다음에 </li>\n",
    "        <li> 다음 'li'와 '/li'로 목록별로 묶어주고\n",
    "    <li> 마지막에 '/ol'로 묶어서 끝내기</li>\n",
    "    </ol>\n",
    "   \n",
    "   \n",
    "<ul>\n",
    "    <li> 순서가 필요없으면 'ul'로 시작하되</li>\n",
    "    <li> 나머지부분은 순서가 필요한 ul과 미슷</li>\n",
    "    <li> ol은 순서가 있는 order... o로 시작</li>\n",
    "    </ul>"
   ]
  },
  {
   "cell_type": "markdown",
   "metadata": {},
   "source": [
    "## 링크\n",
    "\n",
    "[표시할제목을 대괄호안에쓰고 중괄호에 https주소쓰면 링크연결됨](https://google.com)\n",
    "\n",
    "문서내 URL이나 꺽회괄호 ('<>')안의 URL자동으로 링크된다고합니다.\n",
    "\n",
    "![이미지를 넣고싶을땐 물음표를 앞에 두고, 대체 텍스트를 대괄호에입력후 중괄호에 링크를 쓰세요](https://t1.daumcdn.net/cfile/tistory/99F1893B5A49366C2A)\n",
    "\n",
    "[![이미지에 링크넣고싶음 다시한번 대괄호로 이미지를 묶어주고, 그 뒤에 링크주소 쓰세요.](https://t1.daumcdn.net/cfile/tistory/99F1893B5A49366C2A)](https://www.google.com)"
   ]
  },
  {
   "cell_type": "markdown",
   "metadata": {},
   "source": [
    "## 인라인 코드 강조\n",
    "`인라인 코드 블락`\n",
    "`1번키 옆에 back quote를 누르세용`"
   ]
  },
  {
   "cell_type": "markdown",
   "metadata": {},
   "source": [
    "### 클록코드 강조\n",
    "``` css\n",
    ".list>li {\n",
    "    position: absolute;\n",
    "    top: 40px:\n",
    "}\n",
    "```"
   ]
  },
  {
   "cell_type": "markdown",
   "metadata": {},
   "source": [
    "## 표(Table) 만들기\n",
    "\n",
    "|과자이름|맛|가격|\n",
    "|:---:|:---:|:---:|\n",
    "|초코파이|*초코*|2000|\n",
    "|새콤달콤|`딸기`|500|"
   ]
  },
  {
   "cell_type": "markdown",
   "metadata": {},
   "source": [
    "## 인용문 만들기\n",
    ">한번 인용\n",
    ">>두번인용\n",
    ">>>세번인용\n",
    ">>>> 젤 쉽당\n"
   ]
  },
  {
   "cell_type": "markdown",
   "metadata": {},
   "source": [
    "## 수평선\n",
    "\n",
    "권은결\n",
    "***\n",
    "\n",
    "권은결\n",
    "_________"
   ]
  },
  {
   "cell_type": "markdown",
   "metadata": {},
   "source": [
    "## 띄어쓰기\n",
    "입력하고\n",
    "\n",
    "엔터 두번 누르거나<br> 누르면 한번만 엔터눌러도 되나요"
   ]
  },
  {
   "cell_type": "markdown",
   "metadata": {},
   "source": [
    "### 블록코드강조, 원시 HTML 좀 더 알아보기 "
   ]
  },
  {
   "cell_type": "code",
   "execution_count": null,
   "metadata": {},
   "outputs": [],
   "source": []
  }
 ],
 "metadata": {
  "kernelspec": {
   "display_name": "Python 3",
   "language": "python",
   "name": "python3"
  },
  "language_info": {
   "codemirror_mode": {
    "name": "ipython",
    "version": 3
   },
   "file_extension": ".py",
   "mimetype": "text/x-python",
   "name": "python",
   "nbconvert_exporter": "python",
   "pygments_lexer": "ipython3",
   "version": "3.7.3"
  }
 },
 "nbformat": 4,
 "nbformat_minor": 2
}
